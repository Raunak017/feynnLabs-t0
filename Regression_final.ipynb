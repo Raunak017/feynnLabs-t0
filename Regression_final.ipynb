{
 "cells": [
  {
   "cell_type": "markdown",
   "id": "ec557727",
   "metadata": {},
   "source": [
    "# Predicting Total Revenue for a Ground"
   ]
  },
  {
   "cell_type": "code",
   "execution_count": 1,
   "id": "dcd32f66",
   "metadata": {},
   "outputs": [],
   "source": [
    "# importing Libraries\n",
    "import pandas as pd\n",
    "import numpy as np\n",
    "import random\n",
    "import plotly.express as px\n",
    "import matplotlib\n",
    "import matplotlib.pyplot as plt\n",
    "import seaborn as sns\n",
    "%matplotlib inline\n",
    "import warnings\n",
    "warnings.filterwarnings('ignore')\n",
    "\n",
    "\n",
    "\n",
    "\n",
    "# graph settings : \n",
    "sns.set_style('darkgrid')\n",
    "matplotlib.rcParams['font.size'] = 14\n",
    "matplotlib.rcParams['figure.figsize'] = (10, 6)\n",
    "matplotlib.rcParams['figure.facecolor'] = '#00000000'"
   ]
  },
  {
   "cell_type": "code",
   "execution_count": 2,
   "id": "da44b70d",
   "metadata": {},
   "outputs": [
    {
     "data": {
      "text/html": [
       "<div>\n",
       "<style scoped>\n",
       "    .dataframe tbody tr th:only-of-type {\n",
       "        vertical-align: middle;\n",
       "    }\n",
       "\n",
       "    .dataframe tbody tr th {\n",
       "        vertical-align: top;\n",
       "    }\n",
       "\n",
       "    .dataframe thead th {\n",
       "        text-align: right;\n",
       "    }\n",
       "</style>\n",
       "<table border=\"1\" class=\"dataframe\">\n",
       "  <thead>\n",
       "    <tr style=\"text-align: right;\">\n",
       "      <th></th>\n",
       "      <th>Date</th>\n",
       "      <th>Year</th>\n",
       "      <th>Day</th>\n",
       "      <th>Month</th>\n",
       "      <th>GroundName</th>\n",
       "      <th>Cost</th>\n",
       "      <th>TotalCustomers</th>\n",
       "    </tr>\n",
       "  </thead>\n",
       "  <tbody>\n",
       "    <tr>\n",
       "      <th>0</th>\n",
       "      <td>1</td>\n",
       "      <td>2012</td>\n",
       "      <td>Monday</td>\n",
       "      <td>January</td>\n",
       "      <td>Ground1</td>\n",
       "      <td>905</td>\n",
       "      <td>13</td>\n",
       "    </tr>\n",
       "    <tr>\n",
       "      <th>1</th>\n",
       "      <td>2</td>\n",
       "      <td>2012</td>\n",
       "      <td>Thursday</td>\n",
       "      <td>January</td>\n",
       "      <td>Ground1</td>\n",
       "      <td>845</td>\n",
       "      <td>12</td>\n",
       "    </tr>\n",
       "    <tr>\n",
       "      <th>2</th>\n",
       "      <td>3</td>\n",
       "      <td>2012</td>\n",
       "      <td>Saturday</td>\n",
       "      <td>January</td>\n",
       "      <td>Ground1</td>\n",
       "      <td>500</td>\n",
       "      <td>9</td>\n",
       "    </tr>\n",
       "    <tr>\n",
       "      <th>3</th>\n",
       "      <td>4</td>\n",
       "      <td>2012</td>\n",
       "      <td>Friday</td>\n",
       "      <td>January</td>\n",
       "      <td>Ground1</td>\n",
       "      <td>755</td>\n",
       "      <td>12</td>\n",
       "    </tr>\n",
       "    <tr>\n",
       "      <th>4</th>\n",
       "      <td>5</td>\n",
       "      <td>2012</td>\n",
       "      <td>Sunday</td>\n",
       "      <td>January</td>\n",
       "      <td>Ground1</td>\n",
       "      <td>855</td>\n",
       "      <td>14</td>\n",
       "    </tr>\n",
       "    <tr>\n",
       "      <th>...</th>\n",
       "      <td>...</td>\n",
       "      <td>...</td>\n",
       "      <td>...</td>\n",
       "      <td>...</td>\n",
       "      <td>...</td>\n",
       "      <td>...</td>\n",
       "      <td>...</td>\n",
       "    </tr>\n",
       "    <tr>\n",
       "      <th>14395</th>\n",
       "      <td>26</td>\n",
       "      <td>2021</td>\n",
       "      <td>Tuesday</td>\n",
       "      <td>December</td>\n",
       "      <td>Ground4</td>\n",
       "      <td>735</td>\n",
       "      <td>11</td>\n",
       "    </tr>\n",
       "    <tr>\n",
       "      <th>14396</th>\n",
       "      <td>27</td>\n",
       "      <td>2021</td>\n",
       "      <td>Friday</td>\n",
       "      <td>December</td>\n",
       "      <td>Ground4</td>\n",
       "      <td>750</td>\n",
       "      <td>11</td>\n",
       "    </tr>\n",
       "    <tr>\n",
       "      <th>14397</th>\n",
       "      <td>28</td>\n",
       "      <td>2021</td>\n",
       "      <td>Monday</td>\n",
       "      <td>December</td>\n",
       "      <td>Ground4</td>\n",
       "      <td>650</td>\n",
       "      <td>9</td>\n",
       "    </tr>\n",
       "    <tr>\n",
       "      <th>14398</th>\n",
       "      <td>29</td>\n",
       "      <td>2021</td>\n",
       "      <td>Tuesday</td>\n",
       "      <td>December</td>\n",
       "      <td>Ground4</td>\n",
       "      <td>315</td>\n",
       "      <td>6</td>\n",
       "    </tr>\n",
       "    <tr>\n",
       "      <th>14399</th>\n",
       "      <td>30</td>\n",
       "      <td>2021</td>\n",
       "      <td>Thursday</td>\n",
       "      <td>December</td>\n",
       "      <td>Ground4</td>\n",
       "      <td>675</td>\n",
       "      <td>11</td>\n",
       "    </tr>\n",
       "  </tbody>\n",
       "</table>\n",
       "<p>14400 rows × 7 columns</p>\n",
       "</div>"
      ],
      "text/plain": [
       "       Date  Year       Day     Month GroundName  Cost  TotalCustomers\n",
       "0         1  2012    Monday   January    Ground1   905              13\n",
       "1         2  2012  Thursday   January    Ground1   845              12\n",
       "2         3  2012  Saturday   January    Ground1   500               9\n",
       "3         4  2012    Friday   January    Ground1   755              12\n",
       "4         5  2012    Sunday   January    Ground1   855              14\n",
       "...     ...   ...       ...       ...        ...   ...             ...\n",
       "14395    26  2021   Tuesday  December    Ground4   735              11\n",
       "14396    27  2021    Friday  December    Ground4   750              11\n",
       "14397    28  2021    Monday  December    Ground4   650               9\n",
       "14398    29  2021   Tuesday  December    Ground4   315               6\n",
       "14399    30  2021  Thursday  December    Ground4   675              11\n",
       "\n",
       "[14400 rows x 7 columns]"
      ]
     },
     "execution_count": 2,
     "metadata": {},
     "output_type": "execute_result"
    }
   ],
   "source": [
    "# Loading Dataset\n",
    "groundOwners_df = pd.read_csv ('./regression_dataset.csv')\n",
    "groundOwners_df"
   ]
  },
  {
   "cell_type": "code",
   "execution_count": 3,
   "id": "7d666cab",
   "metadata": {},
   "outputs": [],
   "source": [
    "# Segregating data w.r.t each ground\n",
    "gO1_Cost_df = groundOwners_df.loc[groundOwners_df['GroundName'] == 'Ground1']\n",
    "gO2_Cost_df = groundOwners_df.loc[groundOwners_df['GroundName'] == 'Ground2']\n",
    "gO3_Cost_df = groundOwners_df.loc[groundOwners_df['GroundName'] == 'Ground3']\n",
    "gO4_Cost_df = groundOwners_df.loc[groundOwners_df['GroundName'] == 'Ground4']\n"
   ]
  },
  {
   "cell_type": "markdown",
   "id": "df187e29",
   "metadata": {},
   "source": [
    "# Analytics of Dataset "
   ]
  },
  {
   "cell_type": "code",
   "execution_count": null,
   "id": "6424d86b",
   "metadata": {},
   "outputs": [],
   "source": [
    "def randomColor():\n",
    "    r = lambda: random.randint(0,255)\n",
    "    \n",
    "def HistCreateCostCategorical(gDF,x,cat):\n",
    "    col_dis_seq = []\n",
    "    for i in range(0,x):\n",
    "        col_dis_seq.append(randomColor())\n",
    "    fig = px.histogram(gDF, \n",
    "                       x='Cost', \n",
    "                       marginal='box', \n",
    "                       color=cat, \n",
    "                       color_discrete_sequence=col_dis_seq, \n",
    "                       title='Revenue of Ground based on '+cat)\n",
    "    \n",
    "    fig.update_layout(bargap=0.1)\n",
    "    fig.show()\n",
    "\n",
    "def HistCreateCategorical(gDF):\n",
    "    df = gDF.groupby(['Month'],as_index=False, sort = False)['Cost','TotalCustomers'].sum()\n",
    "    fig1 = px.histogram(df, x=\"Month\", y=[\"TotalCustomers\"], title = \"Total Customers in Each Month\")\n",
    "    fig1.show()\n",
    "    fig2 = px.histogram(df, x=\"Month\", y=[\"Cost\"], title = \"Cost of Each Month\")\n",
    "    fig2.show()\n",
    "    \n",
    "    \n",
    "def CostWithOtherVars(gDF):\n",
    "    fig = px.scatter(gDF,\n",
    "                    x=other_var)\n",
    "\n",
    "    \n",
    "def FindCorrWithCost(gDF):\n",
    "    day_values ={'Monday':0,'Tuesday':1,'Wednesday':2,'Thursday':3,'Friday':4,'Saturday':5,'Sunday':6}\n",
    "\n",
    "    timeslot_values = {'timeslot1':0,'timeslot2':1,'timeslot3':2,'timeslot4':3,'timeslot5':4,'timeslot6':5,'timeslot7':6}\n",
    "\n",
    "    month_values = {'January':0,'February':1,'March':2,'April':3,'May':4,'June':5,'July':6,'August':7,'September':8,'October':9,'November':10,'December':11}\n",
    "\n",
    "    sport_values = {'sport1':0,'sport2':1,'sport3':2,'sport4':3,'sport5':4,'sport6':5}\n",
    "\n",
    "\n",
    "    day_numeric =groundOwner1_df[\"Day\"].map(day_values)\n",
    "    print(\"Day with Cost :\")\n",
    "    print(groundOwner1_df[\"Cost\"].corr(day_numeric))\n",
    "\n",
    "\n",
    "    month_numeric =groundOwner1_df[\"Month\"].map(month_values)\n",
    "    print(\"Month with Cost :\")\n",
    "    print(groundOwner1_df[\"Cost\"].corr(month_numeric))\n",
    "\n",
    "    timeslot_numeric =groundOwner1_df[\"TimeSlot\"].map(timeslot_values)\n",
    "    print(\"TimeSlot with Cost :\")\n",
    "    print(groundOwner1_df[\"Cost\"].corr(timeslot_numeric))\n",
    "\n",
    "    sport_numeric =groundOwner1_df[\"Sport\"].map(sport_values)\n",
    "    print(\"Sport with Cost :\")\n",
    "    print(groundOwner1_df[\"Cost\"].corr(sport_numeric))\n",
    "    \n",
    "    \n",
    "def AnalyticsPipeline1(gDF):\n",
    "    print(gDF)\n",
    "    print(\"\\nInformation about the Data for Ground\")\n",
    "    gDF.info()\n",
    "    print(\"\\nStatistics about the Revenue Data for Ground\")\n",
    "    print(gDF.describe())\n",
    "    fig = px.histogram(gDF, \n",
    "                   x='Cost', \n",
    "                   marginal='box', \n",
    "                   nbins=47, \n",
    "                   title='Distribution of Cost')\n",
    "    fig.update_layout(bargap=0.1)\n",
    "    fig.show()\n",
    "    \n",
    "    print(\"\\nDistribution of Categorical Variables\")\n",
    "    HistCreateCategorical(gDF)\n",
    "    \n",
    "    print(\"\\nRelationship of Day with Cost\")\n",
    "    temp_fig =px.violin(gDF,x=\"Day\",y=\"Cost\",color=\"Month\")\n",
    "    temp_fig.show()\n",
    "\n",
    "    print(\"\\nRelationship of Month with Cost\")\n",
    "    temp_fig =px.violin(gDF,x=\"Month\",y=\"Cost\",color=\"Year\")\n",
    "    temp_fig.show()\n",
    "    \n",
    "   \n",
    "    \n",
    "#     print(\"\\nFinding Correlation of Day,Month,TimeSlot,Sport with Cost\")\n",
    "#     FindCorrWithCost(gDF)"
   ]
  },
  {
   "cell_type": "code",
   "execution_count": null,
   "id": "a6805db7",
   "metadata": {
    "scrolled": true
   },
   "outputs": [],
   "source": [
    "AnalyticsPipeline1(gO1_Cost_df)"
   ]
  },
  {
   "cell_type": "code",
   "execution_count": 4,
   "id": "5e37aab0",
   "metadata": {},
   "outputs": [],
   "source": [
    "# correlation \n",
    "day_codes ={'Monday':0,'Tuesday':1,'Wednesday':2,'Thursday':3,'Friday':4,'Saturday':5,'Sunday':6}\n",
    "\n",
    "timeslot_codes = {'timeslot1':0,'timeslot2':1,'timeslot3':2,'timeslot4':3,'timeslot5':4,'timeslot6':5,'timeslot7':6}\n",
    "\n",
    "month_codes = {'January':0,'February':1,'March':2,'April':3,'May':4,'June':5,'July':6,'August':7,'September':8,'October':9,'November':10,'December':11}\n",
    "\n",
    "sport_codes = {'sport1':0,'sport2':1,'sport3':2,'sport4':3,'sport5':4,'sport6':5}\n",
    "\n",
    "def correlation_matrix_ground(gDF):\n",
    "    gDF['day_code'] = gDF[\"Day\"].map(day_codes)\n",
    "#     gDF['timeslot_code']= gDF[\"TimeSlot\"].map(timeslot_codes)\n",
    "    gDF['month_code']= gDF[\"Month\"].map(month_codes)\n",
    "#     gDF['sport_code']= gDF[\"Sport\"].map(sport_codes)\n",
    "\n",
    "    print(sns.heatmap(gDF.corr(), cmap='Reds', annot=True))\n",
    "    plt.title('Correlation Matrix- Ground Owner data')"
   ]
  },
  {
   "cell_type": "code",
   "execution_count": 5,
   "id": "65f8b6de",
   "metadata": {
    "scrolled": false
   },
   "outputs": [
    {
     "name": "stdout",
     "output_type": "stream",
     "text": [
      "AxesSubplot(0.125,0.125;0.62x0.755)\n"
     ]
    },
    {
     "data": {
      "image/png": "[encoded data removed]",
      "text/plain": [
       "<Figure size 720x432 with 2 Axes>"
      ]
     },
     "metadata": {
      "needs_background": "light"
     },
     "output_type": "display_data"
    }
   ],
   "source": [
    "correlation_matrix_ground(gO1_Cost_df)"
   ]
  },
  {
   "cell_type": "markdown",
   "id": "ecfcd1a8",
   "metadata": {},
   "source": [
    "# Preprocessing for fitting into Models"
   ]
  },
  {
   "cell_type": "code",
   "execution_count": 6,
   "id": "4481f07f",
   "metadata": {},
   "outputs": [
    {
     "name": "stdout",
     "output_type": "stream",
     "text": [
      "(3600, 9)\n"
     ]
    },
    {
     "data": {
      "text/plain": [
       "Date               30\n",
       "Year               10\n",
       "Day                 7\n",
       "Month              12\n",
       "GroundName          1\n",
       "Cost              441\n",
       "TotalCustomers     36\n",
       "day_code            7\n",
       "month_code         12\n",
       "dtype: int64"
      ]
     },
     "execution_count": 6,
     "metadata": {},
     "output_type": "execute_result"
    }
   ],
   "source": [
    "print(gO1_Cost_df.shape)\n",
    "gO1_Cost_df.nunique()"
   ]
  },
  {
   "cell_type": "code",
   "execution_count": 7,
   "id": "11fba457",
   "metadata": {},
   "outputs": [
    {
     "data": {
      "text/html": [
       "<div>\n",
       "<style scoped>\n",
       "    .dataframe tbody tr th:only-of-type {\n",
       "        vertical-align: middle;\n",
       "    }\n",
       "\n",
       "    .dataframe tbody tr th {\n",
       "        vertical-align: top;\n",
       "    }\n",
       "\n",
       "    .dataframe thead th {\n",
       "        text-align: right;\n",
       "    }\n",
       "</style>\n",
       "<table border=\"1\" class=\"dataframe\">\n",
       "  <thead>\n",
       "    <tr style=\"text-align: right;\">\n",
       "      <th></th>\n",
       "      <th>Day</th>\n",
       "      <th>Month</th>\n",
       "      <th>Cost</th>\n",
       "      <th>TotalCustomers</th>\n",
       "    </tr>\n",
       "  </thead>\n",
       "  <tbody>\n",
       "    <tr>\n",
       "      <th>0</th>\n",
       "      <td>Monday</td>\n",
       "      <td>January</td>\n",
       "      <td>905</td>\n",
       "      <td>13</td>\n",
       "    </tr>\n",
       "    <tr>\n",
       "      <th>1</th>\n",
       "      <td>Thursday</td>\n",
       "      <td>January</td>\n",
       "      <td>845</td>\n",
       "      <td>12</td>\n",
       "    </tr>\n",
       "    <tr>\n",
       "      <th>2</th>\n",
       "      <td>Saturday</td>\n",
       "      <td>January</td>\n",
       "      <td>500</td>\n",
       "      <td>9</td>\n",
       "    </tr>\n",
       "    <tr>\n",
       "      <th>3</th>\n",
       "      <td>Friday</td>\n",
       "      <td>January</td>\n",
       "      <td>755</td>\n",
       "      <td>12</td>\n",
       "    </tr>\n",
       "    <tr>\n",
       "      <th>4</th>\n",
       "      <td>Sunday</td>\n",
       "      <td>January</td>\n",
       "      <td>855</td>\n",
       "      <td>14</td>\n",
       "    </tr>\n",
       "  </tbody>\n",
       "</table>\n",
       "</div>"
      ],
      "text/plain": [
       "        Day    Month  Cost  TotalCustomers\n",
       "0    Monday  January   905              13\n",
       "1  Thursday  January   845              12\n",
       "2  Saturday  January   500               9\n",
       "3    Friday  January   755              12\n",
       "4    Sunday  January   855              14"
      ]
     },
     "execution_count": 7,
     "metadata": {},
     "output_type": "execute_result"
    }
   ],
   "source": [
    "gO1_Cost_df = gO1_Cost_df.drop(['Date','Year','GroundName','day_code','month_code'],axis=1)\n",
    "# gO1_Cost_df = pd.get_dummies(gO1_Cost_df)\n",
    "gO1_Cost_df.head()"
   ]
  },
  {
   "cell_type": "markdown",
   "id": "06f79b6a",
   "metadata": {},
   "source": [
    "# Predicting Total cost of the ground, total customers on a day"
   ]
  },
  {
   "cell_type": "markdown",
   "id": "cfab7d97",
   "metadata": {},
   "source": [
    "## Simple Linear Regression"
   ]
  },
  {
   "cell_type": "code",
   "execution_count": 15,
   "id": "0d2adc4e",
   "metadata": {},
   "outputs": [
    {
     "name": "stdout",
     "output_type": "stream",
     "text": [
      "(3600, 2)\n"
     ]
    },
    {
     "data": {
      "text/html": [
       "<div>\n",
       "<style scoped>\n",
       "    .dataframe tbody tr th:only-of-type {\n",
       "        vertical-align: middle;\n",
       "    }\n",
       "\n",
       "    .dataframe tbody tr th {\n",
       "        vertical-align: top;\n",
       "    }\n",
       "\n",
       "    .dataframe thead th {\n",
       "        text-align: right;\n",
       "    }\n",
       "</style>\n",
       "<table border=\"1\" class=\"dataframe\">\n",
       "  <thead>\n",
       "    <tr style=\"text-align: right;\">\n",
       "      <th></th>\n",
       "      <th>TotalCustomers</th>\n",
       "      <th>Cost</th>\n",
       "    </tr>\n",
       "  </thead>\n",
       "  <tbody>\n",
       "    <tr>\n",
       "      <th>0</th>\n",
       "      <td>13</td>\n",
       "      <td>905</td>\n",
       "    </tr>\n",
       "    <tr>\n",
       "      <th>1</th>\n",
       "      <td>12</td>\n",
       "      <td>845</td>\n",
       "    </tr>\n",
       "    <tr>\n",
       "      <th>2</th>\n",
       "      <td>9</td>\n",
       "      <td>500</td>\n",
       "    </tr>\n",
       "    <tr>\n",
       "      <th>3</th>\n",
       "      <td>12</td>\n",
       "      <td>755</td>\n",
       "    </tr>\n",
       "    <tr>\n",
       "      <th>4</th>\n",
       "      <td>14</td>\n",
       "      <td>855</td>\n",
       "    </tr>\n",
       "  </tbody>\n",
       "</table>\n",
       "</div>"
      ],
      "text/plain": [
       "   TotalCustomers  Cost\n",
       "0              13   905\n",
       "1              12   845\n",
       "2               9   500\n",
       "3              12   755\n",
       "4              14   855"
      ]
     },
     "execution_count": 15,
     "metadata": {},
     "output_type": "execute_result"
    }
   ],
   "source": [
    "# redefining data for simple linear regression\n",
    "\n",
    "linear_1 = gO1_Cost_df[['TotalCustomers','Cost']]\n",
    "print(linear_1.shape)\n",
    "linear_1.head()"
   ]
  },
  {
   "cell_type": "code",
   "execution_count": 16,
   "id": "5229eab6",
   "metadata": {},
   "outputs": [
    {
     "data": {
      "text/plain": [
       "Text(0, 0.5, 'Revenue of that day')"
      ]
     },
     "execution_count": 16,
     "metadata": {},
     "output_type": "execute_result"
    },
    {
     "data": {
      "image/png": "[encoded data removed]",
      "text/plain": [
       "<Figure size 720x432 with 1 Axes>"
      ]
     },
     "metadata": {
      "needs_background": "light"
     },
     "output_type": "display_data"
    }
   ],
   "source": [
    "plt.scatter(linear_1['TotalCustomers'],linear_1['Cost'])\n",
    "plt.xlabel('Total Customers visiting that day')\n",
    "plt.ylabel('Revenue of that day')"
   ]
  },
  {
   "cell_type": "code",
   "execution_count": 17,
   "id": "ffbcf3c6",
   "metadata": {},
   "outputs": [
    {
     "name": "stdout",
     "output_type": "stream",
     "text": [
      "Training Set: 2700 rows\n",
      "Test Set: 900 rows\n"
     ]
    }
   ],
   "source": [
    "# Selecting \n",
    "\n",
    "linear_1_X = linear_1.iloc[:,0:1]\n",
    "linear_1_y = linear_1.iloc[:,1:]\n",
    "\n",
    "# Splitting data into training (75%) and testing (25%)\n",
    "\n",
    "from sklearn.model_selection import train_test_split\n",
    "X_train, X_test, y_train, y_test = train_test_split(linear_1_X,linear_1_y,test_size = 0.25,random_state=0)\n",
    "print ('Training Set: %d rows\\nTest Set: %d rows' % (X_train.shape[0], X_test.shape[0]))"
   ]
  },
  {
   "cell_type": "code",
   "execution_count": 18,
   "id": "4fe071e9",
   "metadata": {},
   "outputs": [
    {
     "name": "stdout",
     "output_type": "stream",
     "text": [
      "LinearRegression(copy_X=True, fit_intercept=True, n_jobs=None, normalize=False)\n"
     ]
    }
   ],
   "source": [
    "# Fitting the model\n",
    "\n",
    "from sklearn.linear_model import LinearRegression\n",
    "from sklearn.metrics import r2_score\n",
    "lr_model = LinearRegression().fit(X_train,y_train)\n",
    "print(lr_model)"
   ]
  },
  {
   "cell_type": "code",
   "execution_count": 19,
   "id": "fa1389bb",
   "metadata": {
    "scrolled": false
   },
   "outputs": [
    {
     "name": "stdout",
     "output_type": "stream",
     "text": [
      "Predicted labels:  [140, 819, 1431, 684, 819, 208, 1363, 208, 887, 1567]\n",
      "Actual labels   :  [180, 900, 1480, 810, 900, 180, 1410, 210, 950, 1595]\n"
     ]
    }
   ],
   "source": [
    "# Predicting Labels\n",
    "\n",
    "y_pred = lr_model.predict(X_test)\n",
    "\n",
    "plabels = []\n",
    "for i in range(10):\n",
    "    b = int((y_pred)[i][0])\n",
    "    plabels.append(b)\n",
    "    \n",
    "alabels = []\n",
    "for i in range(10):\n",
    "    a = int(y_test.iloc[i])\n",
    "    alabels.append(a)\n",
    "\n",
    "\n",
    "print('Predicted labels: ', plabels)\n",
    "print('Actual labels   : ' , alabels)"
   ]
  },
  {
   "cell_type": "code",
   "execution_count": 20,
   "id": "8dbaa7e3",
   "metadata": {},
   "outputs": [
    {
     "name": "stdout",
     "output_type": "stream",
     "text": [
      "MAE: 63.06656115509816\n",
      "MSE: 6636.70530844288\n",
      "RMSE: 81.46597638550023\n",
      "R2: 0.9799262982356686\n"
     ]
    }
   ],
   "source": [
    "# Evaluation Metrics\n",
    "\n",
    "from sklearn.metrics import mean_squared_error, mean_absolute_error, r2_score\n",
    "\n",
    "mae = mean_absolute_error(y_test,y_pred)\n",
    "print(\"MAE:\", mae)\n",
    "\n",
    "mse = mean_squared_error(y_test, y_pred)\n",
    "print(\"MSE:\", mse)\n",
    "\n",
    "rmse = np.sqrt(mse)\n",
    "print(\"RMSE:\", rmse)\n",
    "\n",
    "r2 = r2_score(y_test, y_pred)\n",
    "print(\"R2:\", r2)"
   ]
  },
  {
   "cell_type": "code",
   "execution_count": 21,
   "id": "9872448a",
   "metadata": {},
   "outputs": [
    {
     "data": {
      "text/plain": [
       "Text(0, 0.5, 'Revenue of that day')"
      ]
     },
     "execution_count": 21,
     "metadata": {},
     "output_type": "execute_result"
    },
    {
     "data": {
      "image/png": "[encoded data removed]",
      "text/plain": [
       "<Figure size 720x432 with 1 Axes>"
      ]
     },
     "metadata": {
      "needs_background": "light"
     },
     "output_type": "display_data"
    }
   ],
   "source": [
    "# line of best fit \n",
    "plt.scatter(linear_1['TotalCustomers'],linear_1['Cost'])\n",
    "plt.plot(X_train.to_numpy(),lr_model.predict(X_train),color='red')\n",
    "plt.xlabel('Total Customers visiting that day')\n",
    "plt.ylabel('Revenue of that day')"
   ]
  },
  {
   "cell_type": "code",
   "execution_count": 22,
   "id": "8aa1a66e",
   "metadata": {},
   "outputs": [
    {
     "name": "stdout",
     "output_type": "stream",
     "text": [
      "weight:[[67.92429398]]\n",
      "bias :[-63.08002069]\n"
     ]
    }
   ],
   "source": [
    "w_lr_1 = lr_model.coef_\n",
    "b_lr_1 = lr_model.intercept_\n",
    "print('weight:'+str(w_lr_1))\n",
    "print('bias :'+str(b_lr_1))\n",
    "# revenue = w * totalCust + b"
   ]
  },
  {
   "cell_type": "markdown",
   "id": "6c63593a",
   "metadata": {},
   "source": [
    "## Generating Polynomial Features ##"
   ]
  },
  {
   "cell_type": "code",
   "execution_count": 8,
   "id": "fca6be41",
   "metadata": {},
   "outputs": [],
   "source": [
    "# Importing Libraries\n",
    "from sklearn.linear_model import LinearRegression,SGDRegressor\n",
    "from sklearn.preprocessing import PolynomialFeatures, StandardScaler\n",
    "from sklearn.pipeline import Pipeline"
   ]
  },
  {
   "cell_type": "code",
   "execution_count": 9,
   "id": "3f756d64",
   "metadata": {
    "scrolled": false
   },
   "outputs": [
    {
     "name": "stdout",
     "output_type": "stream",
     "text": [
      "(3600, 21)\n",
      "Index(['Cost', 'TotalCustomers', 'Day_Friday', 'Day_Monday', 'Day_Saturday',\n",
      "       'Day_Sunday', 'Day_Thursday', 'Day_Tuesday', 'Day_Wednesday',\n",
      "       'Month_April', 'Month_August', 'Month_December', 'Month_February',\n",
      "       'Month_January', 'Month_July', 'Month_June', 'Month_March', 'Month_May',\n",
      "       'Month_November', 'Month_October', 'Month_September'],\n",
      "      dtype='object')\n"
     ]
    },
    {
     "data": {
      "text/html": [
       "<div>\n",
       "<style scoped>\n",
       "    .dataframe tbody tr th:only-of-type {\n",
       "        vertical-align: middle;\n",
       "    }\n",
       "\n",
       "    .dataframe tbody tr th {\n",
       "        vertical-align: top;\n",
       "    }\n",
       "\n",
       "    .dataframe thead th {\n",
       "        text-align: right;\n",
       "    }\n",
       "</style>\n",
       "<table border=\"1\" class=\"dataframe\">\n",
       "  <thead>\n",
       "    <tr style=\"text-align: right;\">\n",
       "      <th></th>\n",
       "      <th>Cost</th>\n",
       "      <th>TotalCustomers</th>\n",
       "      <th>Day_Friday</th>\n",
       "      <th>Day_Monday</th>\n",
       "      <th>Day_Saturday</th>\n",
       "      <th>Day_Sunday</th>\n",
       "      <th>Day_Thursday</th>\n",
       "      <th>Day_Tuesday</th>\n",
       "      <th>Day_Wednesday</th>\n",
       "      <th>Month_April</th>\n",
       "      <th>...</th>\n",
       "      <th>Month_December</th>\n",
       "      <th>Month_February</th>\n",
       "      <th>Month_January</th>\n",
       "      <th>Month_July</th>\n",
       "      <th>Month_June</th>\n",
       "      <th>Month_March</th>\n",
       "      <th>Month_May</th>\n",
       "      <th>Month_November</th>\n",
       "      <th>Month_October</th>\n",
       "      <th>Month_September</th>\n",
       "    </tr>\n",
       "  </thead>\n",
       "  <tbody>\n",
       "    <tr>\n",
       "      <th>0</th>\n",
       "      <td>905</td>\n",
       "      <td>13</td>\n",
       "      <td>0</td>\n",
       "      <td>1</td>\n",
       "      <td>0</td>\n",
       "      <td>0</td>\n",
       "      <td>0</td>\n",
       "      <td>0</td>\n",
       "      <td>0</td>\n",
       "      <td>0</td>\n",
       "      <td>...</td>\n",
       "      <td>0</td>\n",
       "      <td>0</td>\n",
       "      <td>1</td>\n",
       "      <td>0</td>\n",
       "      <td>0</td>\n",
       "      <td>0</td>\n",
       "      <td>0</td>\n",
       "      <td>0</td>\n",
       "      <td>0</td>\n",
       "      <td>0</td>\n",
       "    </tr>\n",
       "    <tr>\n",
       "      <th>1</th>\n",
       "      <td>845</td>\n",
       "      <td>12</td>\n",
       "      <td>0</td>\n",
       "      <td>0</td>\n",
       "      <td>0</td>\n",
       "      <td>0</td>\n",
       "      <td>1</td>\n",
       "      <td>0</td>\n",
       "      <td>0</td>\n",
       "      <td>0</td>\n",
       "      <td>...</td>\n",
       "      <td>0</td>\n",
       "      <td>0</td>\n",
       "      <td>1</td>\n",
       "      <td>0</td>\n",
       "      <td>0</td>\n",
       "      <td>0</td>\n",
       "      <td>0</td>\n",
       "      <td>0</td>\n",
       "      <td>0</td>\n",
       "      <td>0</td>\n",
       "    </tr>\n",
       "    <tr>\n",
       "      <th>2</th>\n",
       "      <td>500</td>\n",
       "      <td>9</td>\n",
       "      <td>0</td>\n",
       "      <td>0</td>\n",
       "      <td>1</td>\n",
       "      <td>0</td>\n",
       "      <td>0</td>\n",
       "      <td>0</td>\n",
       "      <td>0</td>\n",
       "      <td>0</td>\n",
       "      <td>...</td>\n",
       "      <td>0</td>\n",
       "      <td>0</td>\n",
       "      <td>1</td>\n",
       "      <td>0</td>\n",
       "      <td>0</td>\n",
       "      <td>0</td>\n",
       "      <td>0</td>\n",
       "      <td>0</td>\n",
       "      <td>0</td>\n",
       "      <td>0</td>\n",
       "    </tr>\n",
       "    <tr>\n",
       "      <th>3</th>\n",
       "      <td>755</td>\n",
       "      <td>12</td>\n",
       "      <td>1</td>\n",
       "      <td>0</td>\n",
       "      <td>0</td>\n",
       "      <td>0</td>\n",
       "      <td>0</td>\n",
       "      <td>0</td>\n",
       "      <td>0</td>\n",
       "      <td>0</td>\n",
       "      <td>...</td>\n",
       "      <td>0</td>\n",
       "      <td>0</td>\n",
       "      <td>1</td>\n",
       "      <td>0</td>\n",
       "      <td>0</td>\n",
       "      <td>0</td>\n",
       "      <td>0</td>\n",
       "      <td>0</td>\n",
       "      <td>0</td>\n",
       "      <td>0</td>\n",
       "    </tr>\n",
       "    <tr>\n",
       "      <th>4</th>\n",
       "      <td>855</td>\n",
       "      <td>14</td>\n",
       "      <td>0</td>\n",
       "      <td>0</td>\n",
       "      <td>0</td>\n",
       "      <td>1</td>\n",
       "      <td>0</td>\n",
       "      <td>0</td>\n",
       "      <td>0</td>\n",
       "      <td>0</td>\n",
       "      <td>...</td>\n",
       "      <td>0</td>\n",
       "      <td>0</td>\n",
       "      <td>1</td>\n",
       "      <td>0</td>\n",
       "      <td>0</td>\n",
       "      <td>0</td>\n",
       "      <td>0</td>\n",
       "      <td>0</td>\n",
       "      <td>0</td>\n",
       "      <td>0</td>\n",
       "    </tr>\n",
       "  </tbody>\n",
       "</table>\n",
       "<p>5 rows × 21 columns</p>\n",
       "</div>"
      ],
      "text/plain": [
       "   Cost  TotalCustomers  Day_Friday  Day_Monday  Day_Saturday  Day_Sunday  \\\n",
       "0   905              13           0           1             0           0   \n",
       "1   845              12           0           0             0           0   \n",
       "2   500               9           0           0             1           0   \n",
       "3   755              12           1           0             0           0   \n",
       "4   855              14           0           0             0           1   \n",
       "\n",
       "   Day_Thursday  Day_Tuesday  Day_Wednesday  Month_April  ...  Month_December  \\\n",
       "0             0            0              0            0  ...               0   \n",
       "1             1            0              0            0  ...               0   \n",
       "2             0            0              0            0  ...               0   \n",
       "3             0            0              0            0  ...               0   \n",
       "4             0            0              0            0  ...               0   \n",
       "\n",
       "   Month_February  Month_January  Month_July  Month_June  Month_March  \\\n",
       "0               0              1           0           0            0   \n",
       "1               0              1           0           0            0   \n",
       "2               0              1           0           0            0   \n",
       "3               0              1           0           0            0   \n",
       "4               0              1           0           0            0   \n",
       "\n",
       "   Month_May  Month_November  Month_October  Month_September  \n",
       "0          0               0              0                0  \n",
       "1          0               0              0                0  \n",
       "2          0               0              0                0  \n",
       "3          0               0              0                0  \n",
       "4          0               0              0                0  \n",
       "\n",
       "[5 rows x 21 columns]"
      ]
     },
     "execution_count": 9,
     "metadata": {},
     "output_type": "execute_result"
    }
   ],
   "source": [
    "# Redefining Data for Polynomial Features\n",
    "\n",
    "gO1_Cost_df = pd.get_dummies(gO1_Cost_df)\n",
    "print(gO1_Cost_df.shape)\n",
    "print(gO1_Cost_df.columns)\n",
    "gO1_Cost_df.head()"
   ]
  },
  {
   "cell_type": "code",
   "execution_count": 10,
   "id": "f2a95704",
   "metadata": {},
   "outputs": [],
   "source": [
    "X = gO1_Cost_df.iloc[:,1:]\n",
    "y = gO1_Cost_df.iloc[:,0]"
   ]
  },
  {
   "cell_type": "code",
   "execution_count": 11,
   "id": "1e7dc060",
   "metadata": {},
   "outputs": [
    {
     "data": {
      "text/plain": [
       "0    905\n",
       "1    845\n",
       "2    500\n",
       "3    755\n",
       "4    855\n",
       "Name: Cost, dtype: int64"
      ]
     },
     "execution_count": 11,
     "metadata": {},
     "output_type": "execute_result"
    }
   ],
   "source": [
    "y.head()"
   ]
  },
  {
   "cell_type": "code",
   "execution_count": 12,
   "id": "bfc07f9c",
   "metadata": {},
   "outputs": [
    {
     "data": {
      "text/html": [
       "<div>\n",
       "<style scoped>\n",
       "    .dataframe tbody tr th:only-of-type {\n",
       "        vertical-align: middle;\n",
       "    }\n",
       "\n",
       "    .dataframe tbody tr th {\n",
       "        vertical-align: top;\n",
       "    }\n",
       "\n",
       "    .dataframe thead th {\n",
       "        text-align: right;\n",
       "    }\n",
       "</style>\n",
       "<table border=\"1\" class=\"dataframe\">\n",
       "  <thead>\n",
       "    <tr style=\"text-align: right;\">\n",
       "      <th></th>\n",
       "      <th>TotalCustomers</th>\n",
       "      <th>Day_Friday</th>\n",
       "      <th>Day_Monday</th>\n",
       "      <th>Day_Saturday</th>\n",
       "      <th>Day_Sunday</th>\n",
       "      <th>Day_Thursday</th>\n",
       "      <th>Day_Tuesday</th>\n",
       "      <th>Day_Wednesday</th>\n",
       "      <th>Month_April</th>\n",
       "      <th>Month_August</th>\n",
       "      <th>Month_December</th>\n",
       "      <th>Month_February</th>\n",
       "      <th>Month_January</th>\n",
       "      <th>Month_July</th>\n",
       "      <th>Month_June</th>\n",
       "      <th>Month_March</th>\n",
       "      <th>Month_May</th>\n",
       "      <th>Month_November</th>\n",
       "      <th>Month_October</th>\n",
       "      <th>Month_September</th>\n",
       "    </tr>\n",
       "  </thead>\n",
       "  <tbody>\n",
       "    <tr>\n",
       "      <th>0</th>\n",
       "      <td>13</td>\n",
       "      <td>0</td>\n",
       "      <td>1</td>\n",
       "      <td>0</td>\n",
       "      <td>0</td>\n",
       "      <td>0</td>\n",
       "      <td>0</td>\n",
       "      <td>0</td>\n",
       "      <td>0</td>\n",
       "      <td>0</td>\n",
       "      <td>0</td>\n",
       "      <td>0</td>\n",
       "      <td>1</td>\n",
       "      <td>0</td>\n",
       "      <td>0</td>\n",
       "      <td>0</td>\n",
       "      <td>0</td>\n",
       "      <td>0</td>\n",
       "      <td>0</td>\n",
       "      <td>0</td>\n",
       "    </tr>\n",
       "    <tr>\n",
       "      <th>1</th>\n",
       "      <td>12</td>\n",
       "      <td>0</td>\n",
       "      <td>0</td>\n",
       "      <td>0</td>\n",
       "      <td>0</td>\n",
       "      <td>1</td>\n",
       "      <td>0</td>\n",
       "      <td>0</td>\n",
       "      <td>0</td>\n",
       "      <td>0</td>\n",
       "      <td>0</td>\n",
       "      <td>0</td>\n",
       "      <td>1</td>\n",
       "      <td>0</td>\n",
       "      <td>0</td>\n",
       "      <td>0</td>\n",
       "      <td>0</td>\n",
       "      <td>0</td>\n",
       "      <td>0</td>\n",
       "      <td>0</td>\n",
       "    </tr>\n",
       "    <tr>\n",
       "      <th>2</th>\n",
       "      <td>9</td>\n",
       "      <td>0</td>\n",
       "      <td>0</td>\n",
       "      <td>1</td>\n",
       "      <td>0</td>\n",
       "      <td>0</td>\n",
       "      <td>0</td>\n",
       "      <td>0</td>\n",
       "      <td>0</td>\n",
       "      <td>0</td>\n",
       "      <td>0</td>\n",
       "      <td>0</td>\n",
       "      <td>1</td>\n",
       "      <td>0</td>\n",
       "      <td>0</td>\n",
       "      <td>0</td>\n",
       "      <td>0</td>\n",
       "      <td>0</td>\n",
       "      <td>0</td>\n",
       "      <td>0</td>\n",
       "    </tr>\n",
       "    <tr>\n",
       "      <th>3</th>\n",
       "      <td>12</td>\n",
       "      <td>1</td>\n",
       "      <td>0</td>\n",
       "      <td>0</td>\n",
       "      <td>0</td>\n",
       "      <td>0</td>\n",
       "      <td>0</td>\n",
       "      <td>0</td>\n",
       "      <td>0</td>\n",
       "      <td>0</td>\n",
       "      <td>0</td>\n",
       "      <td>0</td>\n",
       "      <td>1</td>\n",
       "      <td>0</td>\n",
       "      <td>0</td>\n",
       "      <td>0</td>\n",
       "      <td>0</td>\n",
       "      <td>0</td>\n",
       "      <td>0</td>\n",
       "      <td>0</td>\n",
       "    </tr>\n",
       "    <tr>\n",
       "      <th>4</th>\n",
       "      <td>14</td>\n",
       "      <td>0</td>\n",
       "      <td>0</td>\n",
       "      <td>0</td>\n",
       "      <td>1</td>\n",
       "      <td>0</td>\n",
       "      <td>0</td>\n",
       "      <td>0</td>\n",
       "      <td>0</td>\n",
       "      <td>0</td>\n",
       "      <td>0</td>\n",
       "      <td>0</td>\n",
       "      <td>1</td>\n",
       "      <td>0</td>\n",
       "      <td>0</td>\n",
       "      <td>0</td>\n",
       "      <td>0</td>\n",
       "      <td>0</td>\n",
       "      <td>0</td>\n",
       "      <td>0</td>\n",
       "    </tr>\n",
       "  </tbody>\n",
       "</table>\n",
       "</div>"
      ],
      "text/plain": [
       "   TotalCustomers  Day_Friday  Day_Monday  Day_Saturday  Day_Sunday  \\\n",
       "0              13           0           1             0           0   \n",
       "1              12           0           0             0           0   \n",
       "2               9           0           0             1           0   \n",
       "3              12           1           0             0           0   \n",
       "4              14           0           0             0           1   \n",
       "\n",
       "   Day_Thursday  Day_Tuesday  Day_Wednesday  Month_April  Month_August  \\\n",
       "0             0            0              0            0             0   \n",
       "1             1            0              0            0             0   \n",
       "2             0            0              0            0             0   \n",
       "3             0            0              0            0             0   \n",
       "4             0            0              0            0             0   \n",
       "\n",
       "   Month_December  Month_February  Month_January  Month_July  Month_June  \\\n",
       "0               0               0              1           0           0   \n",
       "1               0               0              1           0           0   \n",
       "2               0               0              1           0           0   \n",
       "3               0               0              1           0           0   \n",
       "4               0               0              1           0           0   \n",
       "\n",
       "   Month_March  Month_May  Month_November  Month_October  Month_September  \n",
       "0            0          0               0              0                0  \n",
       "1            0          0               0              0                0  \n",
       "2            0          0               0              0                0  \n",
       "3            0          0               0              0                0  \n",
       "4            0          0               0              0                0  "
      ]
     },
     "execution_count": 12,
     "metadata": {},
     "output_type": "execute_result"
    }
   ],
   "source": [
    "X.head()"
   ]
  },
  {
   "cell_type": "code",
   "execution_count": 13,
   "id": "061c5c46",
   "metadata": {},
   "outputs": [
    {
     "data": {
      "text/plain": [
       "array([  1.,  12.,   0.,   0.,   0.,   0.,   1.,   0.,   0.,   0.,   0.,\n",
       "         0.,   0.,   1.,   0.,   0.,   0.,   0.,   0.,   0.,   0., 144.,\n",
       "         0.,   0.,   0.,   0.,  12.,   0.,   0.,   0.,   0.,   0.,   0.,\n",
       "        12.,   0.,   0.,   0.,   0.,   0.,   0.,   0.,   0.,   0.,   0.,\n",
       "         0.,   0.,   0.,   0.,   0.,   0.,   0.,   0.,   0.,   0.,   0.,\n",
       "         0.,   0.,   0.,   0.,   0.,   0.,   0.,   0.,   0.,   0.,   0.,\n",
       "         0.,   0.,   0.,   0.,   0.,   0.,   0.,   0.,   0.,   0.,   0.,\n",
       "         0.,   0.,   0.,   0.,   0.,   0.,   0.,   0.,   0.,   0.,   0.,\n",
       "         0.,   0.,   0.,   0.,   0.,   0.,   0.,   0.,   0.,   0.,   0.,\n",
       "         0.,   0.,   0.,   0.,   0.,   0.,   0.,   0.,   0.,   0.,   0.,\n",
       "         0.,   1.,   0.,   0.,   0.,   0.,   0.,   0.,   1.,   0.,   0.,\n",
       "         0.,   0.,   0.,   0.,   0.,   0.,   0.,   0.,   0.,   0.,   0.,\n",
       "         0.,   0.,   0.,   0.,   0.,   0.,   0.,   0.,   0.,   0.,   0.,\n",
       "         0.,   0.,   0.,   0.,   0.,   0.,   0.,   0.,   0.,   0.,   0.,\n",
       "         0.,   0.,   0.,   0.,   0.,   0.,   0.,   0.,   0.,   0.,   0.,\n",
       "         0.,   0.,   0.,   0.,   0.,   0.,   0.,   0.,   0.,   0.,   0.,\n",
       "         0.,   0.,   0.,   0.,   0.,   0.,   0.,   0.,   0.,   0.,   0.,\n",
       "         0.,   0.,   0.,   0.,   0.,   0.,   0.,   0.,   1.,   0.,   0.,\n",
       "         0.,   0.,   0.,   0.,   0.,   0.,   0.,   0.,   0.,   0.,   0.,\n",
       "         0.,   0.,   0.,   0.,   0.,   0.,   0.,   0.,   0.,   0.,   0.,\n",
       "         0.,   0.,   0.,   0.,   0.,   0.,   0.,   0.,   0.,   0.,   0.])"
      ]
     },
     "execution_count": 13,
     "metadata": {},
     "output_type": "execute_result"
    }
   ],
   "source": [
    "# Generating Polynomial Features\n",
    "\n",
    "poly = PolynomialFeatures(degree = 2)\n",
    "X_poly = poly.fit_transform(X)\n",
    "X_poly[1]"
   ]
  },
  {
   "cell_type": "code",
   "execution_count": 23,
   "id": "2e4042f5",
   "metadata": {},
   "outputs": [
    {
     "name": "stdout",
     "output_type": "stream",
     "text": [
      "Training Set: 2700 rows\n",
      "Test Set: 900 rows\n"
     ]
    }
   ],
   "source": [
    "# Splitting data into training (75%) and testing (25%)\n",
    "\n",
    "X_train,X_test,y_train,y_test = train_test_split(X_poly,y,test_size=0.25,random_state=0)\n",
    "print ('Training Set: %d rows\\nTest Set: %d rows' % (X_train.shape[0], X_test.shape[0]))"
   ]
  },
  {
   "cell_type": "code",
   "execution_count": 24,
   "id": "458e95b7",
   "metadata": {},
   "outputs": [
    {
     "data": {
      "text/plain": [
       "(900, 231)"
      ]
     },
     "execution_count": 24,
     "metadata": {},
     "output_type": "execute_result"
    }
   ],
   "source": [
    "X_test.shape"
   ]
  },
  {
   "cell_type": "markdown",
   "id": "9ef1e72d",
   "metadata": {},
   "source": [
    "## Polynomial Regression ##"
   ]
  },
  {
   "cell_type": "code",
   "execution_count": 25,
   "id": "49deee20",
   "metadata": {},
   "outputs": [
    {
     "data": {
      "text/plain": [
       "LinearRegression(copy_X=True, fit_intercept=True, n_jobs=None, normalize=False)"
      ]
     },
     "execution_count": 25,
     "metadata": {},
     "output_type": "execute_result"
    }
   ],
   "source": [
    "# Fitting the Model\n",
    "\n",
    "lr_3 = LinearRegression()\n",
    "lr_3.fit(X_train,y_train)"
   ]
  },
  {
   "cell_type": "code",
   "execution_count": 26,
   "id": "4822d03b",
   "metadata": {},
   "outputs": [
    {
     "name": "stdout",
     "output_type": "stream",
     "text": [
      "MAE: 64.62420462714302\n",
      "MSE: 7015.95107092502\n",
      "RMSE: 83.76127429143506\n",
      "R2: 0.9787792130514329\n"
     ]
    }
   ],
   "source": [
    "# Evaluation Metrics\n",
    "\n",
    "y_pred = lr_3.predict(X_test)\n",
    "\n",
    "mae = mean_absolute_error(y_test,y_pred)\n",
    "print(\"MAE:\", mae)\n",
    "\n",
    "mse = mean_squared_error(y_test, y_pred)\n",
    "print(\"MSE:\", mse)\n",
    "\n",
    "rmse = np.sqrt(mse)\n",
    "print(\"RMSE:\", rmse)\n",
    "\n",
    "r2 = r2_score(y_test, y_pred)\n",
    "print(\"R2:\", r2)"
   ]
  },
  {
   "cell_type": "markdown",
   "id": "5e1e4619",
   "metadata": {},
   "source": [
    "## Ridge Regression(ohe) (mse, sgd)"
   ]
  },
  {
   "cell_type": "code",
   "execution_count": 27,
   "id": "4baa0579",
   "metadata": {},
   "outputs": [
    {
     "data": {
      "text/plain": [
       "Ridge(alpha=0.0001, copy_X=True, fit_intercept=True, max_iter=None,\n",
       "      normalize=False, random_state=None, solver='auto', tol=0.001)"
      ]
     },
     "execution_count": 27,
     "metadata": {},
     "output_type": "execute_result"
    }
   ],
   "source": [
    "# Fitting the model\n",
    "\n",
    "from sklearn.linear_model import Ridge\n",
    "from sklearn.metrics import r2_score,mean_squared_error\n",
    "l4_ridge = Ridge(alpha = 0.0001)\n",
    "l4_ridge.fit(X_train,y_train)"
   ]
  },
  {
   "cell_type": "code",
   "execution_count": 28,
   "id": "b55fcc3c",
   "metadata": {},
   "outputs": [
    {
     "name": "stdout",
     "output_type": "stream",
     "text": [
      "Predicted labels:  [156, 818, 1442, 694, 800, 207, 1375, 204, 894, 1563]\n",
      "Actual labels   :  [180, 900, 1480, 810, 900, 180, 1410, 210, 950, 1595]\n"
     ]
    }
   ],
   "source": [
    "# Predicting the labels\n",
    "\n",
    "y_pred = l4_ridge.predict(X_test)\n",
    "\n",
    "plabels = []\n",
    "for i in range(10):\n",
    "    b = int((y_pred)[i])\n",
    "    plabels.append(b)\n",
    "    \n",
    "alabels = []\n",
    "for i in range(10):\n",
    "    a = int(y_test.iloc[i])\n",
    "    alabels.append(a)\n",
    "\n",
    "\n",
    "print('Predicted labels: ', plabels)\n",
    "print('Actual labels   : ' , alabels)\n"
   ]
  },
  {
   "cell_type": "code",
   "execution_count": 29,
   "id": "ddc70d17",
   "metadata": {},
   "outputs": [
    {
     "name": "stdout",
     "output_type": "stream",
     "text": [
      "MAE: 64.61879468792944\n",
      "MSE: 7015.405616250836\n",
      "RMSE: 83.75801822065058\n",
      "R2: 0.9787808628601778\n"
     ]
    }
   ],
   "source": [
    "# Evaluation Metrics\n",
    "\n",
    "mae = mean_absolute_error(y_test,y_pred)\n",
    "print(\"MAE:\", mae)\n",
    "\n",
    "mse = mean_squared_error(y_test, y_pred)\n",
    "print(\"MSE:\", mse)\n",
    "\n",
    "rmse = np.sqrt(mse)\n",
    "print(\"RMSE:\", rmse)\n",
    "\n",
    "r2 = r2_score(y_test, y_pred)\n",
    "print(\"R2:\", r2)"
   ]
  },
  {
   "cell_type": "markdown",
   "id": "2a621be2",
   "metadata": {},
   "source": [
    "## SGD Regressor ##"
   ]
  },
  {
   "cell_type": "code",
   "execution_count": 30,
   "id": "e0b1408a",
   "metadata": {},
   "outputs": [],
   "source": [
    "# Defining Model\n",
    "from sklearn.linear_model import SGDRegressor\n",
    "l4_sgd = SGDRegressor(max_iter = 500,learning_rate=\"constant\",alpha=0.001)"
   ]
  },
  {
   "cell_type": "code",
   "execution_count": 31,
   "id": "23fe8b12",
   "metadata": {},
   "outputs": [
    {
     "data": {
      "text/plain": [
       "SGDRegressor(alpha=0.001, average=False, early_stopping=False, epsilon=0.1,\n",
       "             eta0=0.01, fit_intercept=True, l1_ratio=0.15,\n",
       "             learning_rate='constant', loss='squared_loss', max_iter=500,\n",
       "             n_iter_no_change=5, penalty='l2', power_t=0.25, random_state=None,\n",
       "             shuffle=True, tol=0.001, validation_fraction=0.1, verbose=0,\n",
       "             warm_start=False)"
      ]
     },
     "execution_count": 31,
     "metadata": {},
     "output_type": "execute_result"
    }
   ],
   "source": [
    "# Fitting the Model\n",
    "\n",
    "l4_sgd.fit(X_train,y_train)"
   ]
  },
  {
   "cell_type": "code",
   "execution_count": 32,
   "id": "7c1d343f",
   "metadata": {},
   "outputs": [
    {
     "name": "stdout",
     "output_type": "stream",
     "text": [
      "MAE: 132241730161361.66\n",
      "MSE: 2.873311232440639e+28\n",
      "RMSE: 169508443224537.9\n",
      "R2: -8.690756945730578e+22\n"
     ]
    }
   ],
   "source": [
    "# Predicting Labels\n",
    "\n",
    "y_pred = l4_sgd.predict(X_test)\n",
    "\n",
    "mae = mean_absolute_error(y_test,y_pred)\n",
    "print(\"MAE:\", mae)\n",
    "\n",
    "mse = mean_squared_error(y_test, y_pred)\n",
    "print(\"MSE:\", mse)\n",
    "\n",
    "rmse = np.sqrt(mse)\n",
    "print(\"RMSE:\", rmse)\n",
    "\n",
    "r2 = r2_score(y_test, y_pred)\n",
    "print(\"R2:\", r2)"
   ]
  },
  {
   "cell_type": "code",
   "execution_count": 33,
   "id": "8826f0f2",
   "metadata": {},
   "outputs": [
    {
     "data": {
      "text/plain": [
       "Ridge(alpha=0.001, copy_X=True, fit_intercept=True, max_iter=500,\n",
       "      normalize=False, random_state=None, solver='sparse_cg', tol=0.001)"
      ]
     },
     "execution_count": 33,
     "metadata": {},
     "output_type": "execute_result"
    }
   ],
   "source": [
    "# Changing Parameters\n",
    "\n",
    "l4_ridge_sgd = Ridge(alpha=0.001,max_iter=500,solver=\"sparse_cg\")\n",
    "l4_ridge_sgd.fit(X_train,y_train)"
   ]
  },
  {
   "cell_type": "code",
   "execution_count": 34,
   "id": "9bbc5cf4",
   "metadata": {},
   "outputs": [
    {
     "name": "stdout",
     "output_type": "stream",
     "text": [
      "MAE: 74.60516168629789\n",
      "MSE: 8980.123971117073\n",
      "RMSE: 94.76351603395197\n",
      "R2: 0.9728382801367412\n"
     ]
    }
   ],
   "source": [
    "# Evaluation Metrics\n",
    "\n",
    "y_pred = l4_ridge_sgd.predict(X_test)\n",
    "mae = mean_absolute_error(y_test,y_pred)\n",
    "print(\"MAE:\", mae)\n",
    "\n",
    "mse = mean_squared_error(y_test, y_pred)\n",
    "print(\"MSE:\", mse)\n",
    "\n",
    "rmse = np.sqrt(mse)\n",
    "print(\"RMSE:\", rmse)\n",
    "\n",
    "r2 = r2_score(y_test, y_pred)\n",
    "print(\"R2:\", r2)"
   ]
  },
  {
   "cell_type": "markdown",
   "id": "a4f8d680",
   "metadata": {},
   "source": [
    "## Lasso Regression(ohe)\n"
   ]
  },
  {
   "cell_type": "code",
   "execution_count": 35,
   "id": "dd22abc9",
   "metadata": {},
   "outputs": [
    {
     "name": "stdout",
     "output_type": "stream",
     "text": [
      "[0.9787933280250504, 0.9794076644698692, 0.9796050577055139, 0.979651339584793]\n"
     ]
    }
   ],
   "source": [
    "# Finding the best coefs according to r2 score\n",
    "# Splitting data into training (75%) and testing (25%)\n",
    "from sklearn.linear_model import Lasso\n",
    "\n",
    "coefs = []\n",
    "r2_scores = []\n",
    "\n",
    "for i in [0,0.1,1,10]:\n",
    "    reg = Lasso(alpha=i)\n",
    "    reg.fit(X_train,y_train)\n",
    "    \n",
    "    coefs.append(reg.coef_.tolist())\n",
    "    y_pred = reg.predict(X_test)\n",
    "    r2_scores.append(r2_score(y_test,y_pred))\n",
    "    \n",
    "print(r2_scores)"
   ]
  },
  {
   "cell_type": "code",
   "execution_count": 36,
   "id": "c5f4debc",
   "metadata": {},
   "outputs": [
    {
     "name": "stdout",
     "output_type": "stream",
     "text": [
      "Alpha = 0, r2_score=0.9788\n",
      "Alpha = 0.1, r2_score=0.9794\n",
      "Alpha = 1, r2_score=0.9796\n",
      "Alpha = 10, r2_score=0.9797\n"
     ]
    }
   ],
   "source": [
    "# Best Parameters\n",
    "\n",
    "print('Alpha = 0, r2_score={}'.format(round(r2_scores[0],4)))\n",
    "\n",
    "print('Alpha = 0.1, r2_score={}'.format(round(r2_scores[1],4)))\n",
    "\n",
    "\n",
    "print('Alpha = 1, r2_score={}'.format(round(r2_scores[2],4)))\n",
    "\n",
    "print('Alpha = 10, r2_score={}'.format(round(r2_scores[3],4)))\n"
   ]
  },
  {
   "cell_type": "code",
   "execution_count": 38,
   "id": "4e2fa3e9",
   "metadata": {},
   "outputs": [
    {
     "name": "stdout",
     "output_type": "stream",
     "text": [
      "MAE: 63.66422954321389\n",
      "MSE: 6727.61128877932\n",
      "RMSE: 82.02201709772395\n",
      "R2: 0.979651339584793\n"
     ]
    }
   ],
   "source": [
    "reg = Lasso(alpha=10)\n",
    "reg.fit(X_train,y_train)\n",
    "y_pred = reg.predict(X_test)\n",
    "mae = mean_absolute_error(y_test,y_pred)\n",
    "print(\"MAE:\", mae)\n",
    "\n",
    "mse = mean_squared_error(y_test, y_pred)\n",
    "print(\"MSE:\", mse)\n",
    "\n",
    "rmse = np.sqrt(mse)\n",
    "print(\"RMSE:\", rmse)\n",
    "\n",
    "r2 = r2_score(y_test, y_pred)\n",
    "print(\"R2:\", r2)"
   ]
  },
  {
   "cell_type": "markdown",
   "id": "3ac39f09",
   "metadata": {},
   "source": [
    "## ElasticNet Regression (ohe)"
   ]
  },
  {
   "cell_type": "code",
   "execution_count": null,
   "id": "5bf46a43",
   "metadata": {},
   "outputs": [],
   "source": [
    "#if you do not know the importance of your columns, use elastic Net regression \n",
    "#its loss function is a combination of both lasso and ridge\n",
    "# also used when there is multi collinearity between input columns"
   ]
  },
  {
   "cell_type": "code",
   "execution_count": 40,
   "id": "ac861ca0",
   "metadata": {},
   "outputs": [
    {
     "data": {
      "text/plain": [
       "ElasticNet(alpha=0.005, copy_X=True, fit_intercept=True, l1_ratio=0.9,\n",
       "           max_iter=1000, normalize=False, positive=False, precompute=False,\n",
       "           random_state=None, selection='cyclic', tol=0.0001, warm_start=False)"
      ]
     },
     "execution_count": 40,
     "metadata": {},
     "output_type": "execute_result"
    }
   ],
   "source": [
    "# Fitting the model\n",
    "from sklearn.linear_model import LinearRegression,ElasticNet\n",
    "l6_elasticNet = ElasticNet(alpha=0.005,l1_ratio=0.9)\n",
    "l6_elasticNet.fit(X_train,y_train)"
   ]
  },
  {
   "cell_type": "code",
   "execution_count": 41,
   "id": "8e3561c0",
   "metadata": {},
   "outputs": [
    {
     "name": "stdout",
     "output_type": "stream",
     "text": [
      "MAE: 64.32855779971882\n",
      "MSE: 6956.573305871528\n",
      "RMSE: 83.40607475401013\n",
      "R2: 0.9789588099284556\n"
     ]
    }
   ],
   "source": [
    "# Evaluation Metrics\n",
    "\n",
    "y_pred = l6_elasticNet.predict(X_test)\n",
    "mae = mean_absolute_error(y_test,y_pred)\n",
    "print(\"MAE:\", mae)\n",
    "\n",
    "mse = mean_squared_error(y_test, y_pred)\n",
    "print(\"MSE:\", mse)\n",
    "\n",
    "rmse = np.sqrt(mse)\n",
    "print(\"RMSE:\", rmse)\n",
    "\n",
    "r2 = r2_score(y_test, y_pred)\n",
    "print(\"R2:\", r2)"
   ]
  }
 ],
 "metadata": {
  "kernelspec": {
   "display_name": "Python 3 (ipykernel)",
   "language": "python",
   "name": "python3"
  },
  "language_info": {
   "codemirror_mode": {
    "name": "ipython",
    "version": 3
   },
   "file_extension": ".py",
   "mimetype": "text/x-python",
   "name": "python",
   "nbconvert_exporter": "python",
   "pygments_lexer": "ipython3",
   "version": "3.9.12"
  }
 },
 "nbformat": 4,
 "nbformat_minor": 5
}
